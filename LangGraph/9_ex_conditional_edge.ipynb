{
 "cells": [
  {
   "cell_type": "code",
   "execution_count": null,
   "id": "0bdf6817",
   "metadata": {},
   "outputs": [],
   "source": [
    "from typing import Dict, TypedDict\n",
    "from langgraph.graph import StateGraph, START, END"
   ]
  },
  {
   "cell_type": "code",
   "execution_count": 2,
   "id": "e3582f64",
   "metadata": {},
   "outputs": [],
   "source": [
    "class AgentState(TypedDict):\n",
    "    number1:int\n",
    "    operation:str\n",
    "    number2:int\n",
    "    number3:int\n",
    "    operation2:str\n",
    "    number4:int\n",
    "    finalNumber:int\n",
    "    finalNumber2:int"
   ]
  },
  {
   "cell_type": "code",
   "execution_count": null,
   "id": "32bf97d1",
   "metadata": {},
   "outputs": [],
   "source": [
    "def adder1(state:AgentState) -> AgentState:\n",
    "    '''Adds two numbers'''\n",
    "    state['finalNumber'] = state['number1'] + state['number2']\n",
    "\n",
    "def adder2(state:AgentState) -> AgentState:\n",
    "    '''Adds two numbers'''\n",
    "    state['finalNumber2'] = state['number3'] + state['number4']\n",
    "\n",
    "def subtractor1(state:AgentState) -> AgentState:\n",
    "    '''Subtracts two numbers'''\n",
    "    state['finalNumber'] = state['number1'] - state['number2']\n",
    "\n",
    "def subtractor2(state:AgentState) -> AgentState:\n",
    "    '''Subtracts two numbers'''\n",
    "    state['finalNumber2'] = state['number3'] - state['number4']\n",
    "\n",
    "def router1(state:AgentState) -> AgentState:\n",
    "    op  = state['operation']\n",
    "    if op == '-':\n",
    "        return 'sub_op'\n",
    "    elif op == '+':\n",
    "        return 'add_op'\n",
    "\n",
    "def router2(state:AgentState) -> AgentState:\n",
    "    op  = state['operation']\n",
    "    if op == '-':\n",
    "        return 'sub_op2'\n",
    "    elif op == '+':\n",
    "        return 'add_op2'"
   ]
  }
 ],
 "metadata": {
  "kernelspec": {
   "display_name": ".venv",
   "language": "python",
   "name": "python3"
  },
  "language_info": {
   "codemirror_mode": {
    "name": "ipython",
    "version": 3
   },
   "file_extension": ".py",
   "mimetype": "text/x-python",
   "name": "python",
   "nbconvert_exporter": "python",
   "pygments_lexer": "ipython3",
   "version": "3.12.3"
  }
 },
 "nbformat": 4,
 "nbformat_minor": 5
}
