{
 "cells": [
  {
   "cell_type": "code",
   "execution_count": 16,
   "id": "5040d169",
   "metadata": {},
   "outputs": [],
   "source": [
    "import random\n",
    "from typing import TypedDict\n",
    "from langgraph.graph import StateGraph, START, END"
   ]
  },
  {
   "cell_type": "code",
   "execution_count": 17,
   "id": "b9029c5a",
   "metadata": {},
   "outputs": [],
   "source": [
    "class AgentState(TypedDict):\n",
    "    player_name:str\n",
    "    guesses:list[int]\n",
    "    attempts:int\n",
    "    lower_bound:int\n",
    "    upper_bound:int\n",
    "    target_guess:int\n",
    "    current_guess:int\n",
    "    hint_guess:str"
   ]
  },
  {
   "cell_type": "code",
   "execution_count": 18,
   "id": "a9e20ad4",
   "metadata": {},
   "outputs": [],
   "source": [
    "def setup(state:AgentState) -> AgentState:\n",
    "    '''Sets up the guess name with random expected number within the bounds'''\n",
    "    print(f\"Welcome, {state['player_name']}! The game has begun. Iam thiking of number between {state['lower_bound']} and {state['upper_bound']}.\")\n",
    "    state['target_guess'] = random.randint(state['lower_bound'], state['upper_bound'])\n",
    "    state['attempts'] =0\n",
    "    state['guesses']=[]\n",
    "    return state"
   ]
  },
  {
   "cell_type": "code",
   "execution_count": 19,
   "id": "5d01d77b",
   "metadata": {},
   "outputs": [],
   "source": [
    "def guess(state:AgentState) -> AgentState:\n",
    "    '''Makes a guess between lower bound and higher bound'''\n",
    "    state['attempts'] = state['attempts'] + 1\n",
    "    state['current_guess'] = random.randint(state['lower_bound'], state['upper_bound'])\n",
    "    state['guesses'].append(state['current_guess'])\n",
    "    print(f\"Attempt {state['attempts']}: Guessing {state['current_guess']} (Current range: {state['lower_bound']}-{state['upper_bound']})\")\n",
    "    return state\n"
   ]
  },
  {
   "cell_type": "code",
   "execution_count": 20,
   "id": "dbdeadd8",
   "metadata": {},
   "outputs": [],
   "source": [
    "def hinter(state:AgentState) -> AgentState:\n",
    "    '''Hints if not target and adjust lower bound and upper bound appropriately'''\n",
    "    if state['current_guess'] < state['target_guess']:\n",
    "        print(f\"Hint: The number {state['current_guess']} is too low. Try higher!\")\n",
    "        state['lower_bound'] = state['current_guess']\n",
    "    elif state['current_guess'] > state['target_guess']:\n",
    "        print(f\"Hint: The number {state['current_guess']} is too high. Try lower!\")\n",
    "        state['upper_bound'] = state['current_guess']\n",
    "    return state"
   ]
  },
  {
   "cell_type": "code",
   "execution_count": 21,
   "id": "5a655a8c",
   "metadata": {},
   "outputs": [],
   "source": [
    "def should_continue(state:AgentState) -> AgentState:\n",
    "    if state['current_guess'] == state['target_guess']:\n",
    "        print(f\"Success! Correct! You found the number {state['target_guess']} in {state['attempts']} attempts.\")\n",
    "        print(\"GAME OVER: Number found!\")\n",
    "        return \"end\"\n",
    "    elif state['attempts'] > 7:\n",
    "        print(\"GAME OVER: Failed, Not able to guess the number\")\n",
    "        return \"end\"\n",
    "    else:\n",
    "        print(f\"CONTINUING: {state[\"attempts\"]}/7 used\")\n",
    "        return \"guess\""
   ]
  },
  {
   "cell_type": "code",
   "execution_count": 22,
   "id": "09029b46",
   "metadata": {},
   "outputs": [],
   "source": [
    "graph = StateGraph(AgentState)\n",
    "\n",
    "graph.add_node('setup_node', setup)\n",
    "graph.add_node('guess_node', guess)\n",
    "graph.add_node('hint_node', hinter)\n",
    "\n",
    "graph.add_edge(START, 'setup_node')\n",
    "graph.add_edge('setup_node', 'guess_node')\n",
    "graph.add_edge('guess_node', 'hint_node')\n",
    "\n",
    "graph.add_conditional_edges(\n",
    "    'hint_node',\n",
    "    should_continue,\n",
    "    {\n",
    "        'end' : END,\n",
    "        \"guess\" : 'guess_node'\n",
    "    }\n",
    ")\n",
    "\n",
    "app = graph.compile()"
   ]
  },
  {
   "cell_type": "code",
   "execution_count": 14,
   "id": "7747cc53",
   "metadata": {},
   "outputs": [
    {
     "data": {
      "image/png": "[encoded data removed]",
      "text/plain": [
       "<IPython.core.display.Image object>"
      ]
     },
     "metadata": {},
     "output_type": "display_data"
    }
   ],
   "source": [
    "from IPython.display import display, Image\n",
    "display(Image(app.get_graph().draw_mermaid_png()))"
   ]
  },
  {
   "cell_type": "code",
   "execution_count": 24,
   "id": "b9475571",
   "metadata": {},
   "outputs": [
    {
     "name": "stdout",
     "output_type": "stream",
     "text": [
      "Welcome, Agazhi! The game has begun. Iam thiking of number between 1 and 20.\n",
      "Attempt 1: Guessing 9 (Current range: 1-20)\n",
      "Hint: The number 9 is too high. Try lower!\n",
      "CONTINUING: 1/7 used\n",
      "Attempt 2: Guessing 2 (Current range: 1-9)\n",
      "Hint: The number 2 is too low. Try higher!\n",
      "CONTINUING: 2/7 used\n",
      "Attempt 3: Guessing 3 (Current range: 2-9)\n",
      "Success! Correct! You found the number 3 in 3 attempts.\n",
      "GAME OVER: Number found!\n"
     ]
    },
    {
     "data": {
      "text/plain": [
       "{'player_name': 'Agazhi',\n",
       " 'guesses': [9, 2, 3],\n",
       " 'attempts': 3,\n",
       " 'lower_bound': 2,\n",
       " 'upper_bound': 9,\n",
       " 'target_guess': 3,\n",
       " 'current_guess': 3}"
      ]
     },
     "execution_count": 24,
     "metadata": {},
     "output_type": "execute_result"
    }
   ],
   "source": [
    "inp = AgentState(player_name='Agazhi', lower_bound=1, upper_bound=20)\n",
    "result = app.invoke(inp)\n",
    "result"
   ]
  }
 ],
 "metadata": {
  "kernelspec": {
   "display_name": ".venv",
   "language": "python",
   "name": "python3"
  },
  "language_info": {
   "codemirror_mode": {
    "name": "ipython",
    "version": 3
   },
   "file_extension": ".py",
   "mimetype": "text/x-python",
   "name": "python",
   "nbconvert_exporter": "python",
   "pygments_lexer": "ipython3",
   "version": "3.12.3"
  }
 },
 "nbformat": 4,
 "nbformat_minor": 5
}
