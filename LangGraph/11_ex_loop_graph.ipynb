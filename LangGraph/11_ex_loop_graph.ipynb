{
 "cells": [
  {
   "cell_type": "code",
   "execution_count": 2,
   "id": "5040d169",
   "metadata": {},
   "outputs": [],
   "source": [
    "import random\n",
    "from typing import TypedDict\n",
    "from langgraph.graph import StateGraph"
   ]
  },
  {
   "cell_type": "code",
   "execution_count": 6,
   "id": "b9029c5a",
   "metadata": {},
   "outputs": [],
   "source": [
    "class AgentState(TypedDict):\n",
    "    player_name:str\n",
    "    guesses:list[int]\n",
    "    attempts:int\n",
    "    lower_bound:int\n",
    "    upper_bound:int\n",
    "    target_guess:int\n",
    "    current_guess:int\n",
    "    hint_guess:str"
   ]
  },
  {
   "cell_type": "code",
   "execution_count": null,
   "id": "a9e20ad4",
   "metadata": {},
   "outputs": [],
   "source": [
    "def setup(state:AgentState) -> AgentState:\n",
    "    '''Sets up the guess name with random expected number within the bounds'''\n",
    "    print(f\"Welcome, {state['player_name']}! The game has begun. Iam thiking of number between {state['lower_bound']} and {state['upper_bound']}.\")\n",
    "    state['target_guess'] = random.randint(state['lower_bound'], state['upper_bound'])\n",
    "    state['attempts'] =0\n",
    "    return state"
   ]
  },
  {
   "cell_type": "code",
   "execution_count": 8,
   "id": "5d01d77b",
   "metadata": {},
   "outputs": [],
   "source": [
    "def guess(state:AgentState) -> AgentState:\n",
    "    '''Makes a guess between lower bound and higher bound'''\n",
    "    state['attempts'] = state['attempts'] + 1\n",
    "    state['current_guess'] = random.randint(state['lower_bound'], state['upper_bound'])\n",
    "    print(f\"Attempt {state['attempts']}: Guessing {state['current_guess']} (Current range: {state['lower_bound']}-{state['upper_bound']})\")\n",
    "    return state\n"
   ]
  },
  {
   "cell_type": "code",
   "execution_count": 10,
   "id": "dbdeadd8",
   "metadata": {},
   "outputs": [],
   "source": [
    "def hinter(state:AgentState) -> AgentState:\n",
    "    '''Hints if not target and adjust lower bound and upper bound appropriately'''\n",
    "    if state['current_guess'] < state['target_guess']:\n",
    "        print(f\"Hint: The number {state['current_guess']} is too low. Try higher!\")\n",
    "        state['lower_bound'] = state['current_guess']\n",
    "    elif state['current_guess'] > state['target_guess']:\n",
    "        print(f\"Hint: The number {state['current_guess']} is too high. Try lower!\")\n",
    "        state['upper_bound'] = state['current_guess']\n",
    "    return state"
   ]
  },
  {
   "cell_type": "code",
   "execution_count": null,
   "id": "5a655a8c",
   "metadata": {},
   "outputs": [],
   "source": [
    "def should_continue(state:AgentState) -> AgentState:\n",
    "    if state['current_guess'] == state['target_guess']:\n",
    "        print(f\"Success! Correct! You found the number {state['target_guess']} in {state['attempts']} attempts.\")\n",
    "        print(\"GAME OVER: Number found!\")\n",
    "        return \"end\"\n",
    "    elif state['attempts'] > 7:\n",
    "        print(\"GAME OVER: Failed, Not able to guess the number\")\n",
    "    else:\n",
    "        print(f\"CONTINUING: {state[\"attempts\"]}/7 used\")"
   ]
  }
 ],
 "metadata": {
  "kernelspec": {
   "display_name": ".venv",
   "language": "python",
   "name": "python3"
  },
  "language_info": {
   "codemirror_mode": {
    "name": "ipython",
    "version": 3
   },
   "file_extension": ".py",
   "mimetype": "text/x-python",
   "name": "python",
   "nbconvert_exporter": "python",
   "pygments_lexer": "ipython3",
   "version": "3.12.3"
  }
 },
 "nbformat": 4,
 "nbformat_minor": 5
}
