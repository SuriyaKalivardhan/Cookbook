{
 "cells": [
  {
   "cell_type": "code",
   "execution_count": null,
   "id": "ffd05e96",
   "metadata": {},
   "outputs": [],
   "source": [
    "# state (Application memory)\n",
    "# nodes (individual fn/op)\n",
    "    # start (Virtual entry point, no op)\n",
    "    # end (signifies the conclusion)\n",
    "    # toolnode (special kind of node, runs only a tool)\n",
    "# graph (strucutre of different nodes)\n",
    "# edges (determines the flow of exec)\n",
    "    # Conditional edges (specific cond/logic applied to current state)\n",
    "# tools (specialized fn within the nodes, enhances the capabilities of the nodes)\n",
    "\n",
    "# stategraph (build, compile graph structure. Blueprint)\n",
    "# Runnable (standard executable component, performs specific task within AI workflow, fundamental building block to create modular systems)\n",
    "\n",
    "# messages\n",
    "    # Human message (input from user)\n",
    "    # System message (provide instr/ctxt to model)\n",
    "    # AI mesasge (response from AI model)\n",
    "    # Function message (result of function call)\n",
    "    # Tool message (result of tool call)"
   ]
  }
 ],
 "metadata": {
  "language_info": {
   "name": "python"
  }
 },
 "nbformat": 4,
 "nbformat_minor": 5
}
