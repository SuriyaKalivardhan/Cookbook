{
 "cells": [
  {
   "cell_type": "code",
   "execution_count": 2,
   "id": "ebf6dac8",
   "metadata": {},
   "outputs": [],
   "source": [
    "from typing import Dict, TypedDict\n",
    "from langgraph.graph import StateGraph"
   ]
  },
  {
   "cell_type": "code",
   "execution_count": 4,
   "id": "55350bc3",
   "metadata": {},
   "outputs": [],
   "source": [
    "class AgentState(TypedDict):\n",
    "    name:str\n",
    "    age:int\n",
    "    skills:list[str]\n",
    "    result:str\n",
    "\n",
    "def greeter_node(state:AgentState) -> AgentState:\n",
    "    '''You are a greeter node'''\n",
    "    state['result'] = f\"{state['name']}, Welcome to the system!\"\n",
    "    return state\n",
    "\n",
    "def ager_node(state:AgentState) -> AgentState:\n",
    "    '''You are a ager node'''\n",
    "    state['result'] = f\"{state['result']} You are {state['age']} years old!\"\n",
    "    return state\n",
    "\n",
    "def skiller_node(state:AgentState) -> AgentState:\n",
    "    '''You are a skiller node'''\n",
    "    skills = ', '.join(state['skills'])\n",
    "    state['result'] = f\"{state['result']} Your skills are {skills}\"\n",
    "    return state\n",
    "\n",
    "graph = StateGraph(AgentState)\n",
    "\n",
    "graph.add_node('greeter', greeter_node)\n",
    "graph.set_entry_point('greeter')\n",
    "graph.add_node('ager', ager_node)\n",
    "graph.add_edge('greeter', 'ager')\n",
    "\n",
    "graph.add_node('skiller', skiller_node)\n",
    "graph.add_edge('ager', 'skiller')\n",
    "\n",
    "graph.set_finish_point('skiller')\n",
    "\n",
    "app = graph.compile()"
   ]
  },
  {
   "cell_type": "code",
   "execution_count": 6,
   "id": "7c6b446f",
   "metadata": {},
   "outputs": [
    {
     "data": {
      "image/png": "[encoded data removed]",
      "text/plain": [
       "<IPython.core.display.Image object>"
      ]
     },
     "metadata": {},
     "output_type": "display_data"
    }
   ],
   "source": [
    "from IPython.display import display, Image\n",
    "display(Image(app.get_graph().draw_mermaid_png()))"
   ]
  },
  {
   "cell_type": "code",
   "execution_count": 7,
   "id": "37f09e77",
   "metadata": {},
   "outputs": [
    {
     "name": "stdout",
     "output_type": "stream",
     "text": [
      "Ila, Welcome to the system! You are 2 years old! Your skills are Crying, fuzzy, smiling, make veryone happy\n"
     ]
    }
   ],
   "source": [
    "result = app.invoke({'name': \"Ila\", 'age': 2, 'skills': ['Crying', 'fuzzy', 'smiling', 'make veryone happy']})\n",
    "print(result['result'])\n"
   ]
  }
 ],
 "metadata": {
  "kernelspec": {
   "display_name": ".venv",
   "language": "python",
   "name": "python3"
  },
  "language_info": {
   "codemirror_mode": {
    "name": "ipython",
    "version": 3
   },
   "file_extension": ".py",
   "mimetype": "text/x-python",
   "name": "python",
   "nbconvert_exporter": "python",
   "pygments_lexer": "ipython3",
   "version": "3.12.3"
  }
 },
 "nbformat": 4,
 "nbformat_minor": 5
}
