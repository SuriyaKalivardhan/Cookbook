{
 "cells": [
  {
   "cell_type": "code",
   "execution_count": null,
   "id": "598461ac",
   "metadata": {},
   "outputs": [],
   "source": [
    "# TypedDict\n",
    "# Union\n",
    "# Optional\n",
    "# Any\n",
    "# Lambda"
   ]
  },
  {
   "cell_type": "code",
   "execution_count": 8,
   "id": "cb4b0059",
   "metadata": {},
   "outputs": [
    {
     "data": {
      "text/plain": [
       "2016"
      ]
     },
     "execution_count": 8,
     "metadata": {},
     "output_type": "execute_result"
    }
   ],
   "source": [
    "moviedict = {\"name\":\"Kabali\", \"year\":2016}\n",
    "moviedict[\"year\"]"
   ]
  },
  {
   "cell_type": "code",
   "execution_count": 10,
   "id": "fd47d7cc",
   "metadata": {},
   "outputs": [
    {
     "data": {
      "text/plain": [
       "'Kabali'"
      ]
     },
     "execution_count": 10,
     "metadata": {},
     "output_type": "execute_result"
    }
   ],
   "source": [
    "from typing import TypedDict\n",
    "class MovieDict(TypedDict):\n",
    "    name:str\n",
    "    year:int\n",
    "\n",
    "movietypeddict = MovieDict(name=\"Kablai\", year=2016)\n",
    "moviedict[\"name\"]\n",
    "    "
   ]
  },
  {
   "cell_type": "code",
   "execution_count": 18,
   "id": "61d26946",
   "metadata": {},
   "outputs": [
    {
     "data": {
      "text/plain": [
       "1.5129"
      ]
     },
     "execution_count": 18,
     "metadata": {},
     "output_type": "execute_result"
    }
   ],
   "source": [
    "from typing import Union\n",
    "def square(x:Union[int, float]) -> float:\n",
    "    return x*x\n",
    "\n",
    "square(10)\n",
    "square(1.23)\n",
    "#square(\"Hello\")"
   ]
  },
  {
   "cell_type": "code",
   "execution_count": 21,
   "id": "192f4ae1",
   "metadata": {},
   "outputs": [],
   "source": [
    "from typing import Optional\n",
    "def greet(name:Optional[str]) -> None:\n",
    "    if name is None:\n",
    "        print(\"Hello, welcome\")\n",
    "    else:\n",
    "        print(f\"Hello {name}\")    "
   ]
  },
  {
   "cell_type": "code",
   "execution_count": 25,
   "id": "6aa0daf7",
   "metadata": {},
   "outputs": [
    {
     "name": "stdout",
     "output_type": "stream",
     "text": [
      "Hello, welcome\n"
     ]
    }
   ],
   "source": [
    "greet(None)"
   ]
  },
  {
   "cell_type": "code",
   "execution_count": 26,
   "id": "a03a0615",
   "metadata": {},
   "outputs": [
    {
     "data": {
      "text/plain": [
       "100"
      ]
     },
     "execution_count": 26,
     "metadata": {},
     "output_type": "execute_result"
    }
   ],
   "source": [
    "square = lambda x: x*x\n",
    "square(10)"
   ]
  },
  {
   "cell_type": "code",
   "execution_count": 32,
   "id": "673985dd",
   "metadata": {},
   "outputs": [
    {
     "name": "stdout",
     "output_type": "stream",
     "text": [
      "[1, 4, 9, 16]\n"
     ]
    }
   ],
   "source": [
    "nums = [1, 2, 3, 4]\n",
    "res = list(map(lambda x: x*x, nums))\n",
    "print(res)"
   ]
  }
 ],
 "metadata": {
  "kernelspec": {
   "display_name": ".venv",
   "language": "python",
   "name": "python3"
  },
  "language_info": {
   "codemirror_mode": {
    "name": "ipython",
    "version": 3
   },
   "file_extension": ".py",
   "mimetype": "text/x-python",
   "name": "python",
   "nbconvert_exporter": "python",
   "pygments_lexer": "ipython3",
   "version": "3.12.3"
  }
 },
 "nbformat": 4,
 "nbformat_minor": 5
}
