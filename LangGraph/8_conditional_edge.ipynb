{
 "cells": [
  {
   "cell_type": "code",
   "execution_count": 1,
   "id": "104f144f",
   "metadata": {},
   "outputs": [],
   "source": [
    "from typing import Dict, TypedDict\n",
    "from langgraph.graph import StateGraph, START, END"
   ]
  },
  {
   "cell_type": "code",
   "execution_count": 7,
   "id": "27f6012e",
   "metadata": {},
   "outputs": [],
   "source": [
    "class AgentState(TypedDict):\n",
    "    num1:int\n",
    "    op:str\n",
    "    num2:int\n",
    "    result:int\n",
    "\n",
    "def router(state:AgentState) -> AgentState:\n",
    "    '''Route Agent that decides which edge should be selected based on operation condition'''\n",
    "    op = state['op']\n",
    "    if op == '*':\n",
    "        return \"multiply_edge\"\n",
    "    elif op == '+':\n",
    "        return \"add_edge\"\n",
    "    \n",
    "def adder(state:AgentState) -> AgentState:\n",
    "    '''Adder node that adds two numbers'''\n",
    "    state['result'] = state['num1'] + state['num2']\n",
    "    return state\n",
    "\n",
    "def multiplier(state:AgentState) -> AgentState:\n",
    "    '''Multiplier node that multiplies two numbers'''\n",
    "    state['result'] = state['num1'] * state['num2']\n",
    "    return state\n",
    "\n",
    "graph = StateGraph(AgentState)\n",
    "\n",
    "graph.add_node('router', lambda state: state)\n",
    "graph.add_node('adder', adder)\n",
    "graph.add_node('multiplier', multiplier)\n",
    "\n",
    "graph.add_edge(START, 'router')\n",
    "graph.add_edge('adder', END)\n",
    "graph.add_edge('multiplier', END)\n",
    "\n",
    "graph.add_conditional_edges(\n",
    "    'router',\n",
    "    router,\n",
    "    {\n",
    "        'add_edge': 'adder',\n",
    "        'multiply_edge': 'multiplier'\n",
    "    }\n",
    ")\n",
    "app = graph.compile()"
   ]
  },
  {
   "cell_type": "code",
   "execution_count": 8,
   "id": "b7397caf",
   "metadata": {},
   "outputs": [
    {
     "data": {
      "image/png": "[encoded data removed]",
      "text/plain": [
       "<IPython.core.display.Image object>"
      ]
     },
     "metadata": {},
     "output_type": "display_data"
    }
   ],
   "source": [
    "from IPython.display import display, Image\n",
    "display(Image(app.get_graph().draw_mermaid_png()))"
   ]
  },
  {
   "cell_type": "code",
   "execution_count": 10,
   "id": "480a1cbd",
   "metadata": {},
   "outputs": [
    {
     "data": {
      "text/plain": [
       "13"
      ]
     },
     "execution_count": 10,
     "metadata": {},
     "output_type": "execute_result"
    }
   ],
   "source": [
    "inp = AgentState(num1=10, op='+', num2=3)\n",
    "result = app.invoke(inp)\n",
    "result['result']"
   ]
  }
 ],
 "metadata": {
  "kernelspec": {
   "display_name": ".venv",
   "language": "python",
   "name": "python3"
  },
  "language_info": {
   "codemirror_mode": {
    "name": "ipython",
    "version": 3
   },
   "file_extension": ".py",
   "mimetype": "text/x-python",
   "name": "python",
   "nbconvert_exporter": "python",
   "pygments_lexer": "ipython3",
   "version": "3.12.3"
  }
 },
 "nbformat": 4,
 "nbformat_minor": 5
}
