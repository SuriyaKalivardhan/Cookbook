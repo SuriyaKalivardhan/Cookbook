{
 "cells": [
  {
   "cell_type": "code",
   "execution_count": 1,
   "id": "1807c406",
   "metadata": {},
   "outputs": [],
   "source": [
    "from azure.ai.projects import AIProjectClient\n",
    "from azure.identity import DefaultAzureCredential"
   ]
  },
  {
   "cell_type": "code",
   "execution_count": 2,
   "id": "6ef831ac",
   "metadata": {},
   "outputs": [],
   "source": [
    "project = AIProjectClient(\n",
    "    endpoint=\"https://suriyak-foundry-agent-p-resource.services.ai.azure.com/api/projects/suriyak-foundry-agent-project\",\n",
    "    credential=DefaultAzureCredential(),\n",
    ")"
   ]
  },
  {
   "cell_type": "code",
   "execution_count": 4,
   "id": "2289acb7",
   "metadata": {},
   "outputs": [
    {
     "name": "stdout",
     "output_type": "stream",
     "text": [
      "In a secret garden where light softly spills,  \n",
      "flowers whisper their ancient tales of bloom—  \n",
      "petals unfurl like delicate scrolls of hope,  \n",
      "each hue a verse in nature's endless poem.\n",
      "\n",
      "Roses blush in the quiet of dawn,  \n",
      "crimson secrets mingling with dew,  \n",
      "while daisies laugh under a cerulean sky,  \n",
      "bright smiles scattered in a careless dance of joy.\n",
      "\n",
      "Lilies stand in dignified grace amid shadows,  \n",
      "their ivory silhouettes echoing hidden dreams,  \n",
      "and wild poppies burst in untamed fervor,  \n",
      "painting the earth with splashes of bold rebellion.\n",
      "\n",
      "The wind carries scents of jasmine and lilac,  \n",
      "a perfumed conversation between earth and air,  \n",
      "as each blossom writes a sonnet in sunlight—  \n",
      "a fragile reminder that beauty thrives in the ephemeral.\n",
      "\n",
      "In this lush tapestry woven by nature’s hand,  \n",
      "flowers bloom and wither with timeless cadence,  \n",
      "reminding our hearts to cherish every fleeting petal,  \n",
      "for in each delicate bloom resides the poetry of life.\n"
     ]
    }
   ],
   "source": [
    "models = project.inference.get_azure_openai_client(api_version=\"2024-12-01-preview\")\n",
    "response = models.chat.completions.create(\n",
    "    model=\"o3-mini\",\n",
    "    messages=[\n",
    "        {\"role\": \"system\", \"content\": \"You are a helpful writing assistant\"},\n",
    "        {\"role\": \"user\", \"content\": \"Write me a poem about flowers\"},\n",
    "    ],\n",
    ")\n",
    "\n",
    "print(response.choices[0].message.content)"
   ]
  }
 ],
 "metadata": {
  "kernelspec": {
   "display_name": ".venv",
   "language": "python",
   "name": "python3"
  },
  "language_info": {
   "codemirror_mode": {
    "name": "ipython",
    "version": 3
   },
   "file_extension": ".py",
   "mimetype": "text/x-python",
   "name": "python",
   "nbconvert_exporter": "python",
   "pygments_lexer": "ipython3",
   "version": "3.12.3"
  }
 },
 "nbformat": 4,
 "nbformat_minor": 5
}
