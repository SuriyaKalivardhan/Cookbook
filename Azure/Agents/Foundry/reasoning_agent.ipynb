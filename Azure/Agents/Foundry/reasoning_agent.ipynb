{
 "cells": [
  {
   "cell_type": "code",
   "execution_count": 2,
   "id": "2f0db84b",
   "metadata": {},
   "outputs": [],
   "source": [
    "from azure.ai.projects import AIProjectClient\n",
    "from azure.identity import DefaultAzureCredential\n",
    "from azure.ai.agents.models import ListSortOrder, FilePurpose"
   ]
  },
  {
   "cell_type": "code",
   "execution_count": null,
   "id": "8d687ff5",
   "metadata": {},
   "outputs": [],
   "source": [
    "project = AIProjectClient(\n",
    "    endpoint=\"https://suriyak-foundry-project-resource.services.ai.azure.com/api/projects/suriyak-foundry-project\",\n",
    "    credential=DefaultAzureCredential(),\n",
    ")"
   ]
  },
  {
   "cell_type": "code",
   "execution_count": null,
   "id": "8a1b142d",
   "metadata": {},
   "outputs": [
    {
     "name": "stdout",
     "output_type": "stream",
     "text": [
      "<iterator object azure.core.paging.ItemPaged at 0x7f18bf8eb6e0>\n"
     ]
    }
   ],
   "source": [
    "agent = project.agents.create_agent(\n",
    "    model=\"o3\",\n",
    "    name=\"my-agent\",\n",
    "    instructions=\"You are a helpful writing assistant\")\n",
    "\n",
    "thread = project.agents.threads.create()\n",
    "message = project.agents.messages.create(\n",
    "    thread_id=thread.id, \n",
    "    role=\"user\", \n",
    "    content=\"Write me a poem about flowers\")\n",
    "\n",
    "run = project.agents.runs.create_and_process(thread_id=thread.id, agent_id=agent.id)\n",
    "if run.status == \"failed\":\n",
    "    # Check if you got \"Rate limit is exceeded.\", then you want to get more quota\n",
    "    print(f\"Run failed: {run.last_error}\")\n",
    "\n",
    "# Get messages from the thread\n",
    "messages = project.agents.messages.list(thread_id=thread.id)\n",
    "print(messages)"
   ]
  },
  {
   "cell_type": "code",
   "execution_count": 5,
   "id": "ecee3c5e",
   "metadata": {},
   "outputs": [
    {
     "name": "stdout",
     "output_type": "stream",
     "text": [
      "{'id': 'msg_ehpfgRwQpsTRfCAVvLL6opWb', 'object': 'thread.message', 'created_at': 1748924301, 'assistant_id': 'asst_Ny5GA2iulVx3G913t45QCEHi', 'thread_id': 'thread_cX8IrUlCOUcwhu4n2U7g8XXM', 'run_id': 'run_i2sVBdesRPB8FP7HFp7rG51B', 'role': 'assistant', 'content': [{'type': 'text', 'text': {'value': 'In a secret garden of light,  \\nDelicate petals unfurl their stories,  \\nA silent ballet beneath the sun’s embrace,  \\nEach bloom a whisper of nature’s glory.\\n\\nRibbons of color dance on morning dew,  \\nSwaying softly in the gentle breeze,  \\nTheir fragrant secrets sewn among the greens,  \\nReminding hearts of hope with ease.\\n\\nIn every flower’s bloom lies a gentle art,  \\nNature’s own verses, whispered from the heart.', 'annotations': []}}], 'attachments': [], 'metadata': {}}\n",
      "{'id': 'msg_0UcrnRbklIs02ru0Loh2cXqD', 'object': 'thread.message', 'created_at': 1748924296, 'assistant_id': None, 'thread_id': 'thread_cX8IrUlCOUcwhu4n2U7g8XXM', 'run_id': None, 'role': 'user', 'content': [{'type': 'text', 'text': {'value': 'Write me a poem about flowers', 'annotations': []}}], 'attachments': [], 'metadata': {}}\n"
     ]
    }
   ],
   "source": [
    "for m in messages:\n",
    "    print(m)"
   ]
  }
 ],
 "metadata": {
  "kernelspec": {
   "display_name": ".venv",
   "language": "python",
   "name": "python3"
  },
  "language_info": {
   "codemirror_mode": {
    "name": "ipython",
    "version": 3
   },
   "file_extension": ".py",
   "mimetype": "text/x-python",
   "name": "python",
   "nbconvert_exporter": "python",
   "pygments_lexer": "ipython3",
   "version": "3.12.3"
  }
 },
 "nbformat": 4,
 "nbformat_minor": 5
}
